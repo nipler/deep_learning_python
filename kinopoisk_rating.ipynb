{
 "cells": [
  {
   "cell_type": "code",
   "execution_count": 1,
   "metadata": {
    "collapsed": true,
    "pycharm": {
     "is_executing": false
    }
   },
   "outputs": [
    {
     "name": "stderr",
     "text": [
      "Using TensorFlow backend.\n"
     ],
     "output_type": "stream"
    }
   ],
   "source": [
    "import sys\n",
    "import numpy as np\n",
    "import pandas as pd\n",
    "import matplotlib.pyplot as plt\n",
    "from keras import utils \n",
    "from keras.models import Sequential \n",
    "from keras.layers import Dense, Dropout, BatchNormalization, Embedding, Flatten, Activation\n",
    "from keras.layers import Conv1D, SpatialDropout1D, MaxPooling1D, GlobalAveragePooling1D, GlobalMaxPooling1D\n",
    "from keras.layers import LSTM, GRU, SimpleRNN, CuDNNLSTM, CuDNNGRU, Bidirectional\n",
    "from keras.optimizers import Adam, RMSprop\n",
    "from keras.preprocessing.text import Tokenizer, text_to_word_sequence #инструменты предобработки текста от кераса\n",
    "from keras.preprocessing.sequence import pad_sequences\n",
    "from sklearn.model_selection import train_test_split #модуль для разбиения данных на обучающую и тестовую выборки"
   ]
  },
  {
   "cell_type": "code",
   "execution_count": 2,
   "outputs": [
    {
     "name": "stdout",
     "text": [
      "такая страница уже спарсена:  good 1\n",
      "one category done good\n",
      "такая страница уже спарсена:  bad 1\n",
      "one category done bad\n",
      "такая страница уже спарсена:  neutral 1\n",
      "one category done neutral\n"
     ],
     "output_type": "stream"
    }
   ],
   "source": [
    "import requests\n",
    "from bs4 import BeautifulSoup\n",
    "import time\n",
    "import os\n",
    "\n",
    "headers = {\n",
    "   \"Accept\": \"text/html\",\n",
    "    \"User-Agent\": \"Mozilla/5.0 (Windows NT 10.0; Win64; x64) AppleWebKit/537.36 (KHTML, like Gecko) Chrome/81.0.4044.138 Safari/537.36\",\n",
    "    \"cookie\": \"PHPSESSID=nva1aso54t3ur1jcrv440m2521; yandex_gid=11030; _csrf_csrf_token=fUqWvJv7DWdy4uo-s-0XB3wmRLhKOJRS48iPG68RaG4; desktop_session_key=cdfb3c0120404a16d5b6745e8503e714c3d7df0d2bae6a24639f7331ce64768ba7fc3053a9b5b305a3b19901bc22727669f804f30fd6fb4bdb60cbd1b67b799fcb1709a720864edf49422a117925a492f5fee8fb5a9ab1ae3111fe9e3da1c53f; desktop_session_key.sig=931Ytxc7Z-hGPcLSClDUjLintHE; mda_exp_enabled=1; yandexuid=1631874731573983881; _ym_uid=15743269971036485775; mda=0; _ym_uid=15743269971036485775; yuidss=1631874731573983881; user-geo-region-id=11030; user-geo-country-id=2; _ym_d=1575283329; my_perpages=%5B%5D; gdpr=0; yp=1583874685.oyu.1631874731573983881#1586167652.yu.1631874731573983881; ymex=1588673252.oyu.1631874731573983881; mykp_button=edit_main; yandex_login=infovokzal; uid=22026293; crookie=oSSdn3IkyV0SHbNG/D6JfpNDHGB/czc88gnSCvF7XuUlS7U5EU0VVVyhEFYY7EteJvlDLezvKOQcW6qNlQhkvj1yDCc=; cmtchd=MTU4OTg5NDYwMjA2NQ==; location=1; mobile=no; i=A5QRuX+3GSwV+q3mGl6vuTE3e+doAoom0z817868mv+bolhle7g9DVw1uKqY+yU1wv+akjHA+SW7PYZJW6h0RCik2AU=; tc=5836; yandex_ugc_rating_status=no; yandex_ugc_rating_status.sig=pw4cVz6AAY2ipArQXugmwejk7uw; ya_sess_id=3:1590303329.5.0.1574018312846:u3erTw:7a.1|46580927.0.2|740902983.760370.2.2:760370|30:189777.879061.cp8_3js0Jfr2sF8ZR5rYEV8pue8; ys=udn.cDppbmZvdm9remFs#c_chck.3359023974; mda2_beacon=1590303329095; user_country=ru; yandex_plus_metrika_cookie=true; sso_status=sso.passport.yandex.ru:failed; spravka=dD0xNTkwMzI2NjE4O2k9MTg1LjE5NC4xMDQuMTMyO3U9MTU5MDMyNjYxODIzMTU0NTA4NDtoPTViNWZjNjJkMTZjYzcwMGQwNjc4YzQyODhiMGQzNGFh; _ym_d=1590326661\"}\n",
    "\n",
    "def load_data(url):\n",
    "    r = requests.get(url, headers = headers) # отправка http запроса\n",
    "    soup = BeautifulSoup(r.text, 'html.parser')# создание html парсера\n",
    "    reviews = soup.find_all(class_='_reachbanner_')# сохранение только отзывов\n",
    "    print('reviews: ', len(reviews))\n",
    "    reviews_clean = []\n",
    "    for review in reviews:# очистка от лишней html разметки\n",
    "        reviews_clean.append(review.find_all(text=True))\n",
    "    return reviews_clean\n",
    "\n",
    "def convert(reviews): # преобразование отзывов в строки\n",
    "    review_converted = []\n",
    "    for review in reviews:\n",
    "        for i in review:\n",
    "            map(str, i)\n",
    "        review = ''.join(review)\n",
    "        review_converted.append(review)\n",
    "    return review_converted\n",
    "\n",
    "def parsing(status, path):\n",
    "    page = 1\n",
    "    delays = [3, 2, 1, 4.5, 5.5, 3.5, 2.2, 1.3, 2.8]\n",
    "    time.sleep(np.random.choice(delays)) # Выбор рандомной задержки\n",
    "    while True:\n",
    "        if os.path.isfile(path + r'/{}/{}_{}.txt'.format(status, page, 0)):\n",
    "            print('такая страница уже спарсена: ', status, page)\n",
    "            #page += 1\n",
    "            break\n",
    "        else:\n",
    "            print('page: ', page)\n",
    "            loaded_data = load_data('https://www.kinopoisk.ru/reviews/type/comment/status/{}/period/month/page/{}/perpage/200/#list'.format(status, page))\n",
    "            if loaded_data == []:\n",
    "                if page == 1: \n",
    "                    sys.exit()\n",
    "                break\n",
    "            else:\n",
    "                print('status: ', status)\n",
    "                # Eсли папок с классами не существует, программа их создаст\n",
    "                if not os.path.exists(path + r'/{}'.format(status)):\n",
    "                    os.makedirs(path + r'/{}'.format(status))\n",
    "                converted_data = convert(loaded_data)\n",
    "                # Сохранение отзывов\n",
    "                for i, review in enumerate(converted_data):\n",
    "                    pathItem = path + r'/{}/{}_{}.txt'.format(status, page, i)\n",
    "                    with open(pathItem, 'w', encoding = 'utf-8') as output:\n",
    "                        output.write(review)\n",
    "                print('converted_data: ', len(converted_data))\n",
    "                if len(converted_data) == 200:\n",
    "                    page += 1\n",
    "                    time.sleep(np.random.choice(delays))\n",
    "                else:\n",
    "                    break\n",
    "\n",
    "            \n",
    "path = 'C:/Users/azovm/PycharmProjects/work/kinopoisk'\n",
    "\n",
    "className = ['good', 'bad', 'neutral']\n",
    "delays = [2, 1, 4, 6, 3.5, 2.5, 1, 5.3, 7]\n",
    "for status in className:\n",
    "    parsing(status = status, path=path)\n",
    "    print('one category done', status)\n",
    "    time.sleep(np.random.choice(delays))\n"
   ],
   "metadata": {
    "collapsed": false,
    "pycharm": {
     "name": "#%%\n",
     "is_executing": false
    }
   }
  },
  {
   "cell_type": "code",
   "execution_count": 3,
   "outputs": [],
   "source": [
    "def readText(fileName):\n",
    "  f = open(fileName, mode=\"r\", encoding=\"utf-8\")\n",
    "  text = f.read()\n",
    "  text = text.replace(\"\\n\",\" \")\n",
    "  return text\n",
    "\n",
    "\n",
    "texts = []\n",
    "classes = []\n",
    "#path = \"C:/Users/azovm/PycharmProjects/work/books/\"\n",
    "path = \"C:/Users/azovm/PycharmProjects/work/kinopoisk/\"\n",
    "for i in range(len(className)):  \n",
    "    for root, dirs, files in os.walk(path+className[i]):  \n",
    "        for filename in files:\n",
    "            #print(filename)\n",
    "            texts.append(readText(path+className[i]+\"/\"+filename))\n",
    "            classes.append(className[i])\n",
    "\n"
   ],
   "metadata": {
    "collapsed": false,
    "pycharm": {
     "name": "#%%\n",
     "is_executing": false
    }
   }
  },
  {
   "cell_type": "code",
   "execution_count": 4,
   "outputs": [
    {
     "name": "stdout",
     "text": [
      "(3594, 3)\n",
      "[0. 1. 0.]\n"
     ],
     "output_type": "stream"
    }
   ],
   "source": [
    "from sklearn.preprocessing import LabelEncoder\n",
    "\n",
    "maxWordsCount = 50000\n",
    "\n",
    "tokenizer = Tokenizer(num_words=maxWordsCount, filters='–—!\"#$%&()*+,-./:;<=>?@[\\\\]^_`{|}~\\t\\n\\xa0–', lower=True, split=' ', char_level=False, oov_token = 'unknown')\n",
    "tokenizer.fit_on_texts(texts) \n",
    "items = list(tokenizer.word_index.items()) \n",
    "\n",
    "\n",
    "#xAll = tokenizer.texts_to_matrix(texts) #каждое слово из текста нашло свой индекс в векторе длиной maxWordsCount отметилось в нем единичкой \n",
    "#print(xAll.shape)  #взглянем на форму текстов\n",
    "#print(xAll[0, :20])#и отдельно на фрагмент начала вектора\n",
    "\n",
    "encoder = LabelEncoder() #вызываем метод кодирования тестовых лейблов из библиотеки sklearn\n",
    "encoder.fit(classes)     #подгружаем в него категории из нашей базы\n",
    "classesEncoded = encoder.transform(classes)           #кодируем категории\n",
    "yAll = utils.to_categorical(classesEncoded, len(className)) #и выводим каждый лейбл в виде вектора длиной 22, с 1кой в позиции соответсвующего класса и нулями\n",
    "print(yAll.shape)  #взглянем на форму лейблов категорий\n",
    "print(yAll[0])"
   ],
   "metadata": {
    "collapsed": false,
    "pycharm": {
     "name": "#%%\n",
     "is_executing": false
    }
   }
  },
  {
   "cell_type": "code",
   "execution_count": 5,
   "outputs": [
    {
     "name": "stdout",
     "text": [
      "0 621\n",
      "1 2309\n",
      "2 664\n"
     ],
     "output_type": "stream"
    }
   ],
   "source": [
    "for i in range(len(className)):\n",
    "  print(i, sum(classesEncoded == i))\n",
    "  \n",
    "\n"
   ],
   "metadata": {
    "collapsed": false,
    "pycharm": {
     "name": "#%%\n",
     "is_executing": false
    }
   }
  },
  {
   "cell_type": "code",
   "execution_count": 6,
   "outputs": [
    {
     "name": "stdout",
     "text": [
      "Взглянем на фрагмент обучающего текста:\n",
      "В виде оригинального текста:               Творчество норвежского режиссёра Ханса Петтера Муланда на родине давно и тесно связано \n",
      "Он же в виде последовательности индексов:  [3897, 21397, 625, 13238, 31256, 31257, 5, 5249, 324, 2, 5486, 2784, 7, 376, 13, 330, 41120, 5, 1502, 116122]\n",
      "\n",
      "\n",
      "Статистика по обучающим текстам:\n",
      "good   1472  символов,  211  слов\n",
      "bad   4877  символов,  687  слов\n",
      "neutral   3435  символов,  503  слов\n",
      "В сумме  15684  символов,  2261  слов\n"
     ],
     "output_type": "stream"
    }
   ],
   "source": [
    "Sequences = tokenizer.texts_to_sequences(texts) \n",
    "\n",
    "\n",
    "print(\"Взглянем на фрагмент обучающего текста:\")\n",
    "print(\"В виде оригинального текста:              \", texts[1] [:87])\n",
    "print(\"Он же в виде последовательности индексов: \", Sequences[1][:20])\n",
    "\n",
    "print()\n",
    "print()\n",
    "\n",
    "print(\"Статистика по обучающим текстам:\")\n",
    "for i in range(len(className)):\n",
    "  print(className[i], \" \", len(texts[i]), \" символов, \", len(Sequences[i]), \" слов\")\n",
    "print(\"В сумме \", len(texts[0])+len(texts[1])+len(texts[2])+len(texts[3])+len(texts[4])+len(texts[5]), \" символов, \", len(Sequences[0])+len(Sequences[1])+len(Sequences[2])+len(Sequences[3])+len(Sequences[4])+len(Sequences[5]), \" слов\")\n"
   ],
   "metadata": {
    "collapsed": false,
    "pycharm": {
     "name": "#%%\n",
     "is_executing": false
    }
   }
  },
  {
   "cell_type": "code",
   "execution_count": 45,
   "outputs": [
    {
     "name": "stdout",
     "text": [
      "259881\n",
      "259881\n"
     ],
     "output_type": "stream"
    }
   ],
   "source": [
    "def getSetFromIndexes(wordIndexes, xLen, step):\n",
    "  xSample = []\n",
    "  wordsLen = len(wordIndexes)\n",
    "  index = 0\n",
    "  \n",
    "  while (index + xLen <= wordsLen):\n",
    "    xSample.append(wordIndexes[index:index+xLen])\n",
    "    index += step\n",
    "  return xSample\n",
    "# Формируем новую базу\n",
    "splitTexts = []\n",
    "splitClases = []\n",
    "xLen = 25 #Длина отрезка текста, по которой анализируем, в словах\n",
    "step = 5 #Шаг разбиения исходного текста на обучающие вектора\n",
    "\n",
    "for num in range(len(Sequences)):\n",
    "  class_list = []\n",
    "  part = getSetFromIndexes(Sequences[num], xLen, step)\n",
    "  #print(len(spl_mes))\n",
    "  # добавляем к общему списку раскусанные сообщения\n",
    "  splitTexts.extend(part)\n",
    "\n",
    "  for i in range(len(part)): \n",
    "    class_list.append(yAll[num])\n",
    "  splitClases.extend(class_list)\n",
    "\n",
    "print(len(splitTexts))\n",
    "print(len(splitClases))\n"
   ],
   "metadata": {
    "collapsed": false,
    "pycharm": {
     "name": "#%%\n",
     "is_executing": false
    }
   }
  },
  {
   "cell_type": "code",
   "execution_count": 46,
   "outputs": [
    {
     "name": "stdout",
     "text": [
      "(207904, 25)\n",
      "(207904, 3)\n"
     ],
     "output_type": "stream"
    }
   ],
   "source": [
    "splitTexts = np.array(splitTexts)\n",
    "splitClases = np.array(splitClases)\n",
    "#разбиваем текст на последовательность индексов\n",
    "#xAll = tokenizer.texts_to_matrix(new_texts)             #переведём в массив numpy\n",
    "xTrain, xVal, yTrain, yVal = train_test_split(splitTexts, splitClases, test_size=0.2)#сформируем новую форму выборки\n",
    "print(xTrain.shape) #взглянем на форму текстов из обучающей выборки\n",
    "print(yTrain.shape)  #и на форму соответствующих им классов"
   ],
   "metadata": {
    "collapsed": false,
    "pycharm": {
     "name": "#%%\n",
     "is_executing": false
    }
   }
  },
  {
   "cell_type": "code",
   "execution_count": 49,
   "outputs": [
    {
     "name": "stderr",
     "text": [
      "C:\\Users\\azovm\\.conda\\envs\\tensorflow_gpu\\lib\\site-packages\\tensorflow_core\\python\\framework\\indexed_slices.py:433: UserWarning: Converting sparse IndexedSlices to a dense Tensor of unknown shape. This may consume a large amount of memory.\n",
      "  \"Converting sparse IndexedSlices to a dense Tensor of unknown shape. \"\n"
     ],
     "output_type": "stream"
    },
    {
     "name": "stdout",
     "text": [
      "Train on 207904 samples, validate on 51977 samples\n",
      "Epoch 1/20\n",
      "207904/207904 [==============================] - 26s 127us/step - loss: 0.5525 - accuracy: 0.7690 - val_loss: 0.1521 - val_accuracy: 0.9485\n",
      "Epoch 2/20\n",
      "207904/207904 [==============================] - 25s 120us/step - loss: 0.0771 - accuracy: 0.9737 - val_loss: 0.0691 - val_accuracy: 0.9764\n",
      "Epoch 3/20\n",
      "207904/207904 [==============================] - 24s 113us/step - loss: 0.0282 - accuracy: 0.9907 - val_loss: 0.0700 - val_accuracy: 0.9770\n",
      "Epoch 4/20\n",
      "207904/207904 [==============================] - 23s 109us/step - loss: 0.0236 - accuracy: 0.9917 - val_loss: 0.0613 - val_accuracy: 0.9803\n",
      "Epoch 5/20\n",
      "207904/207904 [==============================] - 23s 109us/step - loss: 0.0237 - accuracy: 0.9916 - val_loss: 0.0621 - val_accuracy: 0.9800\n",
      "Epoch 6/20\n",
      "207904/207904 [==============================] - 23s 109us/step - loss: 0.0196 - accuracy: 0.9932 - val_loss: 0.0582 - val_accuracy: 0.9825\n",
      "Epoch 7/20\n",
      "207904/207904 [==============================] - 23s 109us/step - loss: 0.0147 - accuracy: 0.9948 - val_loss: 0.0578 - val_accuracy: 0.9830\n",
      "Epoch 8/20\n",
      "207904/207904 [==============================] - 22s 105us/step - loss: 0.0125 - accuracy: 0.9957 - val_loss: 0.0551 - val_accuracy: 0.9845\n",
      "Epoch 9/20\n",
      "207904/207904 [==============================] - 22s 108us/step - loss: 0.0107 - accuracy: 0.9963 - val_loss: 0.0607 - val_accuracy: 0.9839\n",
      "Epoch 10/20\n",
      "207904/207904 [==============================] - 22s 105us/step - loss: 0.0115 - accuracy: 0.9960 - val_loss: 0.0618 - val_accuracy: 0.9831\n",
      "Epoch 11/20\n",
      "207904/207904 [==============================] - 22s 106us/step - loss: 0.0109 - accuracy: 0.9961 - val_loss: 0.0583 - val_accuracy: 0.9838\n",
      "Epoch 12/20\n",
      "207904/207904 [==============================] - 22s 104us/step - loss: 0.0091 - accuracy: 0.9970 - val_loss: 0.0536 - val_accuracy: 0.9856\n",
      "Epoch 13/20\n",
      "207904/207904 [==============================] - 21s 101us/step - loss: 0.0078 - accuracy: 0.9972 - val_loss: 0.0553 - val_accuracy: 0.9858\n",
      "Epoch 14/20\n",
      "207904/207904 [==============================] - 21s 102us/step - loss: 0.0077 - accuracy: 0.9972 - val_loss: 0.0613 - val_accuracy: 0.9847\n",
      "Epoch 15/20\n",
      "207904/207904 [==============================] - 21s 101us/step - loss: 0.0067 - accuracy: 0.9976 - val_loss: 0.0531 - val_accuracy: 0.9860\n",
      "Epoch 16/20\n",
      "207904/207904 [==============================] - 21s 102us/step - loss: 0.0064 - accuracy: 0.9978 - val_loss: 0.0581 - val_accuracy: 0.9854\n",
      "Epoch 17/20\n",
      "207904/207904 [==============================] - 21s 102us/step - loss: 0.0065 - accuracy: 0.9978 - val_loss: 0.0599 - val_accuracy: 0.9844\n",
      "Epoch 18/20\n",
      "207904/207904 [==============================] - 21s 101us/step - loss: 0.0058 - accuracy: 0.9979 - val_loss: 0.0611 - val_accuracy: 0.9849\n",
      "Epoch 19/20\n",
      "207904/207904 [==============================] - 21s 101us/step - loss: 0.0060 - accuracy: 0.9978 - val_loss: 0.0545 - val_accuracy: 0.9856\n",
      "Epoch 20/20\n",
      "207904/207904 [==============================] - 21s 103us/step - loss: 0.0058 - accuracy: 0.9979 - val_loss: 0.0565 - val_accuracy: 0.9864\n"
     ],
     "output_type": "stream"
    },
    {
     "data": {
      "text/plain": "<Figure size 432x288 with 1 Axes>",
      "image/png": "[encoded data removed]"
     },
     "metadata": {
      "needs_background": "light"
     },
     "output_type": "display_data"
    }
   ],
   "source": [
    "\n",
    "model = Sequential()\n",
    "model.add(Embedding(maxWordsCount, 500, input_length=xLen))\n",
    "model.add(SpatialDropout1D(0.2)) #добавляем слой регуляризации, \"выключая\" 1D карты объектов из эмбединг векторов, во избежание переобучения\n",
    "model.add(BatchNormalization()) #добавляем слой нормализации данных\n",
    "model.add(Conv1D(20, 5, activation=\"relu\")) #добавляем одномерный сверточный слой, указывая кол-во фильтров и ширину окна для фильтров \n",
    "#model.add(MaxPooling1D(2)) #добавляем слой подвыборки/пулинга с функцией максимума\n",
    "#model.add(Conv1D(20, 5, activation=\"relu\")) #добавляем одномерный сверточный слой, указывая кол-во фильтров и ширину окна для фильтров \n",
    "#model.add(MaxPooling1D(2)) #добавляем слой подвыборки/пулинга с функцией максимума\n",
    "model.add(Dropout(0.2)) #добавляем слой регуляризации, \"выключая\" указанное количество нейронов, во избежание переобучения\n",
    "model.add(BatchNormalization()) #добавляем слой нормализации данных\n",
    "model.add(Flatten()) #добавляем слой выравнивания/сглаживания (\"сплющиваем\" данные в вектор)бавляем слой нормализации данных\n",
    "model.add(Dense(len(className), activation='sigmoid'))\n",
    "\n",
    "model.compile(optimizer='adam', \n",
    "              loss='categorical_crossentropy', \n",
    "              metrics=['accuracy'])\n",
    "\n",
    "#Обучаем сеть на xTrain\n",
    "history = model.fit(xTrain, \n",
    "                    yTrain, \n",
    "                    epochs=20,\n",
    "                    batch_size=256,\n",
    "                    validation_data=(xVal, yVal))\n",
    "\n",
    "\n",
    "plt.plot(history.history['accuracy'], \n",
    "         label='Доля верных ответов на обучающем наборе')\n",
    "plt.plot(history.history['val_accuracy'], \n",
    "         label='Доля верных ответов на проверочном наборе')\n",
    "plt.xlabel('Эпоха обучения')\n",
    "plt.ylabel('Доля верных ответов')\n",
    "plt.legend()\n",
    "plt.show()\n",
    "\n",
    "\n"
   ],
   "metadata": {
    "collapsed": false,
    "pycharm": {
     "name": "#%%\n",
     "is_executing": false
    }
   }
  },
  {
   "cell_type": "code",
   "execution_count": 50,
   "outputs": [
    {
     "name": "stdout",
     "text": [
      "good , результат:  97.8 %\n",
      "bad , результат:  99.3 %\n",
      "neutral , результат:  97.1 %\n"
     ],
     "output_type": "stream"
    }
   ],
   "source": [
    "\n",
    "def allClassesPercent(model, xTest, yTest):\n",
    "  \n",
    "  predict = model.predict(xTest)\n",
    "\n",
    "  y_pred = np.zeros(len(className))\n",
    "  y_test = np.zeros(len(className))\n",
    "\n",
    "  for i in range(len(yTest)):\n",
    "    y_test[np.argmax(yTest[i])] += 1\n",
    "    if np.argmax(predict[i]) == np.argmax(yTest[i]):\n",
    "      y_pred[np.argmax(predict[i])] += 1 \n",
    "\n",
    "  y_summary = y_pred / y_test\n",
    "  #Проходим по всем классам\n",
    "  for i in range(len(className)): \n",
    "    print(className[i], ', результат: ', round(y_summary[i] * 100,1), '%')\n",
    "  return \n",
    "\n",
    "\n",
    "allClassesPercent(model, xVal, yVal)\n",
    "\n",
    "\n",
    "\n",
    "\n"
   ],
   "metadata": {
    "collapsed": false,
    "pycharm": {
     "name": "#%%\n",
     "is_executing": false
    }
   }
  }
 ],
 "metadata": {
  "kernelspec": {
   "name": "python3",
   "language": "python",
   "display_name": "Python 3"
  },
  "language_info": {
   "codemirror_mode": {
    "name": "ipython",
    "version": 2
   },
   "file_extension": ".py",
   "mimetype": "text/x-python",
   "name": "python",
   "nbconvert_exporter": "python",
   "pygments_lexer": "ipython2",
   "version": "2.7.6"
  },
  "pycharm": {
   "stem_cell": {
    "cell_type": "raw",
    "source": [],
    "metadata": {
     "collapsed": false
    }
   }
  }
 },
 "nbformat": 4,
 "nbformat_minor": 0
}
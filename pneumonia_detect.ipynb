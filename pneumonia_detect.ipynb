{
 "cells": [
  {
   "cell_type": "code",
   "execution_count": 1,
   "outputs": [
    {
     "name": "stderr",
     "text": [
      "Using TensorFlow backend.\n"
     ],
     "output_type": "stream"
    }
   ],
   "source": [
    "import os, os.path\n",
    "import sys\n",
    "from keras.models import Sequential\n",
    "from keras.layers import Conv2D, MaxPool2D, Dense, Dropout, Softmax, Input, Flatten\n",
    "from keras.optimizers import Adam, RMSprop, SGD\n",
    "from keras.layers import Dense, Activation, Flatten\n",
    "from keras.layers import Conv2D, MaxPooling2D, BatchNormalization\n",
    "from keras.layers import BatchNormalization\n",
    "\n",
    "from keras.callbacks import EarlyStopping, ModelCheckpoint\n",
    "\n",
    "# Папка с уменьшиными изоюражениями\n",
    "base_dir = 'C:/Users/azovm/PycharmProjects/lesson3/chest_xray'\n",
    "\n",
    "# Директории для выборок для обучения\n",
    "train_dir = os.path.join(base_dir, 'train')\n",
    "# Директории для выборок для проверки\n",
    "validation_dir = os.path.join(base_dir, 'valid')\n",
    "# Директории для выборок для теста\n",
    "test_dir = os.path.join(base_dir, 'test')\n",
    "\n",
    "# размер выборки\n",
    "BATCH_SIZE = 5\n",
    "IMG_WIDTH = 150\n",
    "IMG_HEIGHT = 150\n",
    "model_filename = 'model.h5';"
   ],
   "metadata": {
    "collapsed": false,
    "pycharm": {
     "name": "#%%\n",
     "is_executing": false
    }
   }
  },
  {
   "cell_type": "code",
   "execution_count": 2,
   "outputs": [
    {
     "name": "stdout",
     "text": [
      "Model: \"sequential_1\"\n",
      "_________________________________________________________________\n",
      "Layer (type)                 Output Shape              Param #   \n",
      "=================================================================\n",
      "conv2d_1 (Conv2D)            (None, 150, 150, 512)     14336     \n",
      "_________________________________________________________________\n",
      "max_pooling2d_1 (MaxPooling2 (None, 75, 75, 512)       0         \n",
      "_________________________________________________________________\n",
      "dropout_1 (Dropout)          (None, 75, 75, 512)       0         \n",
      "_________________________________________________________________\n",
      "conv2d_2 (Conv2D)            (None, 75, 75, 512)       2359808   \n",
      "_________________________________________________________________\n",
      "max_pooling2d_2 (MaxPooling2 (None, 37, 37, 512)       0         \n",
      "_________________________________________________________________\n",
      "conv2d_3 (Conv2D)            (None, 37, 37, 1024)      4719616   \n",
      "_________________________________________________________________\n",
      "max_pooling2d_3 (MaxPooling2 (None, 18, 18, 1024)      0         \n",
      "_________________________________________________________________\n",
      "conv2d_4 (Conv2D)            (None, 18, 18, 1024)      9438208   \n",
      "_________________________________________________________________\n",
      "max_pooling2d_4 (MaxPooling2 (None, 9, 9, 1024)        0         \n",
      "_________________________________________________________________\n",
      "flatten_1 (Flatten)          (None, 82944)             0         \n",
      "_________________________________________________________________\n",
      "dense_1 (Dense)              (None, 1048)              86926360  \n",
      "_________________________________________________________________\n",
      "dropout_2 (Dropout)          (None, 1048)              0         \n",
      "_________________________________________________________________\n",
      "dense_2 (Dense)              (None, 1048)              1099352   \n",
      "_________________________________________________________________\n",
      "dense_3 (Dense)              (None, 2)                 2098      \n",
      "=================================================================\n",
      "Total params: 104,559,778\n",
      "Trainable params: 104,559,778\n",
      "Non-trainable params: 0\n",
      "_________________________________________________________________\n"
     ],
     "output_type": "stream"
    }
   ],
   "source": [
    "# Convolution\n",
    "model = Sequential()\n",
    "model.add(Conv2D(512, (3, 3), padding='same', activation='relu', input_shape=(IMG_WIDTH, IMG_HEIGHT, 3)))\n",
    "model.add(MaxPooling2D(pool_size=(2, 2)))\n",
    "model.add(Dropout(0.2))\n",
    "\n",
    "model.add(Conv2D(512, (3, 3), padding='same', activation='relu'))\n",
    "model.add(MaxPooling2D(pool_size=(2, 2)))\n",
    "\n",
    "model.add(Conv2D(1024, (3, 3), padding='same', activation='relu'))\n",
    "model.add(MaxPooling2D(pool_size=(2, 2)))\n",
    "\n",
    "model.add(Conv2D(1024, (3, 3), padding='same', activation='relu'))\n",
    "model.add(MaxPooling2D(pool_size=(2, 2)))\n",
    "\n",
    "model.add(Flatten())\n",
    "\n",
    "model.add(Dense(1048, activation='relu'))\n",
    "model.add(Dropout(0.2))\n",
    "model.add(Dense(1048, activation='relu'))\n",
    "model.add(Dense(2, activation='softmax'))\n",
    "\n",
    "model.summary()\n",
    "\n",
    "optimizer = Adam(lr=0.00001)\n",
    "model.compile(loss='categorical_crossentropy', optimizer=optimizer, metrics=['accuracy'])\n"
   ],
   "metadata": {
    "collapsed": false,
    "pycharm": {
     "name": "#%%\n",
     "is_executing": false
    }
   }
  },
  {
   "cell_type": "code",
   "execution_count": 3,
   "outputs": [
    {
     "name": "stdout",
     "text": [
      "Found 5840 images belonging to 2 classes.\n",
      "Found 1168 images belonging to 2 classes.\n"
     ],
     "output_type": "stream"
    }
   ],
   "source": [
    "from keras.preprocessing.image import ImageDataGenerator\n",
    "\n",
    "train_datagen = ImageDataGenerator(\n",
    "    rescale=1. / 255,\n",
    "    rotation_range=4,\n",
    "    width_shift_range=0.04,\n",
    "    height_shift_range=0.04,\n",
    "    zoom_range=[0.8, 1.0],\n",
    "    shear_range=0.04,\n",
    "    brightness_range=[0.3, 1.0]\n",
    ")\n",
    "training_set = train_datagen.flow_from_directory(train_dir,\n",
    "    target_size=(IMG_WIDTH, IMG_HEIGHT),\n",
    "    batch_size=BATCH_SIZE,\n",
    "    class_mode='categorical',\n",
    "    shuffle=True,\n",
    "    subset='training'\n",
    ")\n",
    "\n",
    "val_datagen = ImageDataGenerator(rescale=1. / 255, validation_split=0.2)\n",
    "\n",
    "validation_set = val_datagen.flow_from_directory(train_dir,\n",
    "    target_size=(IMG_WIDTH, IMG_HEIGHT),\n",
    "    batch_size=BATCH_SIZE,\n",
    "    class_mode='categorical',\n",
    "    shuffle=True,\n",
    "    subset='validation'\n",
    ")\n",
    "\n"
   ],
   "metadata": {
    "collapsed": false,
    "pycharm": {
     "name": "#%%\n",
     "is_executing": false
    }
   }
  },
  {
   "cell_type": "code",
   "execution_count": 4,
   "outputs": [
    {
     "name": "stdout",
     "text": [
      "Epoch 1/20\n",
      "5840/5840 [==============================] - 1107s 190ms/step - loss: 0.2537 - accuracy: 0.8977 - val_loss: 0.0025 - val_accuracy: 0.9306\n",
      "Epoch 2/20\n",
      "5840/5840 [==============================] - 1077s 184ms/step - loss: 0.1634 - accuracy: 0.9397 - val_loss: 0.0693 - val_accuracy: 0.8818\n",
      "Epoch 3/20\n",
      "5840/5840 [==============================] - ETA: 17:34 - loss: 0.1484 - accuracy: 0.9484 - ETA: 16:53 - loss: 0.1390 - accuracy: 0.9510\n",
      "Epoch 4/20\n",
      "5840/5840 [==============================] - 1059s 181ms/step - loss: 0.1110 - accuracy: 0.9597 - val_loss: 6.0237e-04 - val_accuracy: 0.9118\n",
      "Epoch 5/20\n",
      "5840/5840 [==============================] - 1053s 180ms/step - loss: 0.1000 - accuracy: 0.9631 - val_loss: 0.0555 - val_accuracy: 0.9460\n",
      "Epoch 6/20\n",
      "5840/5840 [==============================] - 1055s 181ms/step - loss: 0.0902 - accuracy: 0.9665 - val_loss: 6.4611e-06 - val_accuracy: 0.9772\n",
      "Epoch 7/20\n",
      "5840/5840 [==============================] - 1056s 181ms/step - loss: 0.0820 - accuracy: 0.9701 - val_loss: 0.0016 - val_accuracy: 0.9607\n",
      "Epoch 8/20\n",
      "5840/5840 [==============================] - 1060s 181ms/step - loss: 0.0753 - accuracy: 0.9721 - val_loss: 0.3528 - val_accuracy: 0.9245\n",
      "Epoch 9/20\n",
      "5840/5840 [==============================] - 1053s 180ms/step - loss: 0.0724 - accuracy: 0.9730 - val_loss: 8.5720e-05 - val_accuracy: 0.9684\n",
      "Epoch 10/20\n",
      "5840/5840 [==============================] - 1051s 180ms/step - loss: 0.0629 - accuracy: 0.9766 - val_loss: 0.0149 - val_accuracy: 0.9846\n",
      "Epoch 11/20\n",
      "5840/5840 [==============================] - 1060s 181ms/step - loss: 0.0573 - accuracy: 0.9780 - val_loss: 1.4782e-06 - val_accuracy: 0.9666\n",
      "Epoch 12/20\n",
      "5840/5840 [==============================] - 1069s 183ms/step - loss: 0.0527 - accuracy: 0.9807 - val_loss: 8.4399e-06 - val_accuracy: 0.9842\n",
      "Epoch 13/20\n",
      "5840/5840 [==============================] - 1055s 181ms/step - loss: 0.0478 - accuracy: 0.9817 - val_loss: 0.0013 - val_accuracy: 0.9852\n",
      "Epoch 14/20\n",
      "5840/5840 [==============================] - 1054s 180ms/step - loss: 0.0425 - accuracy: 0.9841 - val_loss: 1.2278e-05 - val_accuracy: 0.9861\n",
      "Epoch 15/20\n",
      "5840/5840 [==============================] - 1044s 179ms/step - loss: 0.0397 - accuracy: 0.9855 - val_loss: 5.7379e-05 - val_accuracy: 0.9650\n",
      "Epoch 16/20\n",
      "5840/5840 [==============================] - 1049s 180ms/step - loss: 0.0367 - accuracy: 0.9865 - val_loss: 0.0027 - val_accuracy: 0.9695\n",
      "Epoch 17/20\n",
      "5840/5840 [==============================] - 1052s 180ms/step - loss: 0.0342 - accuracy: 0.9871 - val_loss: 3.2019e-05 - val_accuracy: 0.9847\n",
      "Epoch 18/20\n",
      "5840/5840 [==============================] - 1049s 180ms/step - loss: 0.0303 - accuracy: 0.9888 - val_loss: 0.5405 - val_accuracy: 0.9875\n",
      "Epoch 19/20\n",
      "5840/5840 [==============================] - 1059s 181ms/step - loss: 0.0279 - accuracy: 0.9897 - val_loss: 0.3140 - val_accuracy: 0.9799\n",
      "Epoch 20/20\n",
      "5840/5840 [==============================] - 1057s 181ms/step - loss: 0.0259 - accuracy: 0.9907 - val_loss: 0.0011 - val_accuracy: 0.9859\n"
     ],
     "output_type": "stream"
    }
   ],
   "source": [
    "EPOCHS = 20\n",
    "\n",
    "history = model.fit_generator(\n",
    "    training_set,\n",
    "    steps_per_epoch=training_set.samples,\n",
    "    epochs=EPOCHS,\n",
    "    verbose=1,\n",
    "    validation_data=validation_set,\n",
    "    validation_steps=validation_set.samples,\n",
    "    shuffle=True,\n",
    ")"
   ],
   "metadata": {
    "collapsed": false,
    "pycharm": {
     "name": "#%%\n",
     "is_executing": false
    }
   }
  },
  {
   "cell_type": "code",
   "execution_count": 6,
   "outputs": [
    {
     "data": {
      "text/plain": "<Figure size 432x288 with 1 Axes>",
      "image/png": "[encoded data removed]"
     },
     "metadata": {
      "needs_background": "light"
     },
     "output_type": "display_data"
    },
    {
     "data": {
      "text/plain": "<Figure size 432x288 with 1 Axes>",
      "image/png": "[encoded data removed]"
     },
     "metadata": {
      "needs_background": "light"
     },
     "output_type": "display_data"
    }
   ],
   "source": [
    "model.save(\"lesson3.h5\")\n",
    "import matplotlib.pyplot as plt\n",
    "\n",
    "plt.plot(history.history['accuracy'])\n",
    "plt.plot(history.history['val_accuracy'])\n",
    "plt.title('Model Accuracy')\n",
    "plt.ylabel('Accuracy')\n",
    "plt.xlabel('Epoch')\n",
    "plt.legend(['Точность на обучающей', 'Точность на проверочной'], loc='upper left')\n",
    "plt.show()\n",
    "\n",
    "plt.plot(history.history['loss'])\n",
    "plt.plot(history.history['val_loss'])\n",
    "plt.title('Model Accuracy')\n",
    "plt.ylabel('Loss')\n",
    "plt.xlabel('Epoch')\n",
    "plt.legend(['Потери на обучающей', 'Потери на проверочной'], loc='upper left')\n",
    "plt.show()\n",
    "\n"
   ],
   "metadata": {
    "collapsed": false,
    "pycharm": {
     "name": "#%%\n",
     "is_executing": false
    }
   }
  }
 ],
 "metadata": {
  "kernelspec": {
   "name": "python3",
   "language": "python",
   "display_name": "Python 3"
  },
  "language_info": {
   "codemirror_mode": {
    "name": "ipython",
    "version": 2
   },
   "file_extension": ".py",
   "mimetype": "text/x-python",
   "name": "python",
   "nbconvert_exporter": "python",
   "pygments_lexer": "ipython2",
   "version": "2.7.6"
  },
  "pycharm": {
   "stem_cell": {
    "cell_type": "raw",
    "source": [],
    "metadata": {
     "collapsed": false
    }
   }
  }
 },
 "nbformat": 4,
 "nbformat_minor": 0
}